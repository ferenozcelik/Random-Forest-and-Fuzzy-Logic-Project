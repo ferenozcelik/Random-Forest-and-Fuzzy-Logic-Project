{
  "nbformat": 4,
  "nbformat_minor": 0,
  "metadata": {
    "colab": {
      "provenance": []
    },
    "kernelspec": {
      "name": "python3",
      "display_name": "Python 3"
    },
    "language_info": {
      "name": "python"
    }
  },
  "cells": [
    {
      "cell_type": "markdown",
      "source": [
        "### Import necessary modules and libraries"
      ],
      "metadata": {
        "id": "eltb3IusS6cs"
      }
    },
    {
      "cell_type": "code",
      "source": [
        "#pip install scikit-fuzzy"
      ],
      "metadata": {
        "id": "oGavlIARVbTQ"
      },
      "execution_count": 66,
      "outputs": []
    },
    {
      "cell_type": "code",
      "execution_count": 67,
      "metadata": {
        "id": "Rey6Xje6Sorw"
      },
      "outputs": [],
      "source": [
        "from sklearn.model_selection import cross_val_score\n",
        "from sklearn.metrics import accuracy_score\n",
        "from sklearn.ensemble import RandomForestClassifier\n",
        "from sklearn.model_selection import train_test_split\n",
        "import numpy as np\n",
        "import skfuzzy as fuzz\n",
        "from skfuzzy import control as ctrl\n",
        "import pandas as pd\n",
        "import time"
      ]
    },
    {
      "cell_type": "markdown",
      "source": [
        "## Random Forest Classification Implementation"
      ],
      "metadata": {
        "id": "_ofFVkhqS9j-"
      }
    },
    {
      "cell_type": "markdown",
      "source": [
        "### Read the data"
      ],
      "metadata": {
        "id": "3LqyjoJ7S_rS"
      }
    },
    {
      "cell_type": "code",
      "source": [
        "df = pd.read_csv(\"heart_diagnosis_dataset.csv\")"
      ],
      "metadata": {
        "id": "RaKdnR4IS0Bu"
      },
      "execution_count": 68,
      "outputs": []
    },
    {
      "cell_type": "markdown",
      "source": [
        "### Get shape, head and describe\n"
      ],
      "metadata": {
        "id": "L2lmNsTTTDZi"
      }
    },
    {
      "cell_type": "code",
      "source": [
        "df.shape"
      ],
      "metadata": {
        "colab": {
          "base_uri": "https://localhost:8080/"
        },
        "id": "6JuANaQ1TDM9",
        "outputId": "555ee7f0-1c55-4c2f-ad1f-4a6cdcb2d1ea"
      },
      "execution_count": 69,
      "outputs": [
        {
          "output_type": "execute_result",
          "data": {
            "text/plain": [
              "(1025, 11)"
            ]
          },
          "metadata": {},
          "execution_count": 69
        }
      ]
    },
    {
      "cell_type": "code",
      "source": [
        "df.head()"
      ],
      "metadata": {
        "colab": {
          "base_uri": "https://localhost:8080/",
          "height": 206
        },
        "id": "5-NLEQ-yTJTr",
        "outputId": "15019786-625a-44bb-f8cc-69e0b8008242"
      },
      "execution_count": 70,
      "outputs": [
        {
          "output_type": "execute_result",
          "data": {
            "text/plain": [
              "   age  sex  chest_pain_type  blood_pressure  chol  blood_sugar_ov120  \\\n",
              "0   52    1                0             125   212                  0   \n",
              "1   53    1                0             140   203                  1   \n",
              "2   70    1                0             145   174                  0   \n",
              "3   61    1                0             148   203                  0   \n",
              "4   62    0                0             138   294                  1   \n",
              "\n",
              "   restecg  max_heart_rate  oldpeak_st_depression  thal  diagnosis  \n",
              "0        1             168                    1.0     3          0  \n",
              "1        0             155                    3.1     3          0  \n",
              "2        1             125                    2.6     3          0  \n",
              "3        1             161                    0.0     3          0  \n",
              "4        1             106                    1.9     2          0  "
            ],
            "text/html": [
              "\n",
              "  <div id=\"df-18636f49-92ca-41b9-a5e1-4e4acf45ccfb\">\n",
              "    <div class=\"colab-df-container\">\n",
              "      <div>\n",
              "<style scoped>\n",
              "    .dataframe tbody tr th:only-of-type {\n",
              "        vertical-align: middle;\n",
              "    }\n",
              "\n",
              "    .dataframe tbody tr th {\n",
              "        vertical-align: top;\n",
              "    }\n",
              "\n",
              "    .dataframe thead th {\n",
              "        text-align: right;\n",
              "    }\n",
              "</style>\n",
              "<table border=\"1\" class=\"dataframe\">\n",
              "  <thead>\n",
              "    <tr style=\"text-align: right;\">\n",
              "      <th></th>\n",
              "      <th>age</th>\n",
              "      <th>sex</th>\n",
              "      <th>chest_pain_type</th>\n",
              "      <th>blood_pressure</th>\n",
              "      <th>chol</th>\n",
              "      <th>blood_sugar_ov120</th>\n",
              "      <th>restecg</th>\n",
              "      <th>max_heart_rate</th>\n",
              "      <th>oldpeak_st_depression</th>\n",
              "      <th>thal</th>\n",
              "      <th>diagnosis</th>\n",
              "    </tr>\n",
              "  </thead>\n",
              "  <tbody>\n",
              "    <tr>\n",
              "      <th>0</th>\n",
              "      <td>52</td>\n",
              "      <td>1</td>\n",
              "      <td>0</td>\n",
              "      <td>125</td>\n",
              "      <td>212</td>\n",
              "      <td>0</td>\n",
              "      <td>1</td>\n",
              "      <td>168</td>\n",
              "      <td>1.0</td>\n",
              "      <td>3</td>\n",
              "      <td>0</td>\n",
              "    </tr>\n",
              "    <tr>\n",
              "      <th>1</th>\n",
              "      <td>53</td>\n",
              "      <td>1</td>\n",
              "      <td>0</td>\n",
              "      <td>140</td>\n",
              "      <td>203</td>\n",
              "      <td>1</td>\n",
              "      <td>0</td>\n",
              "      <td>155</td>\n",
              "      <td>3.1</td>\n",
              "      <td>3</td>\n",
              "      <td>0</td>\n",
              "    </tr>\n",
              "    <tr>\n",
              "      <th>2</th>\n",
              "      <td>70</td>\n",
              "      <td>1</td>\n",
              "      <td>0</td>\n",
              "      <td>145</td>\n",
              "      <td>174</td>\n",
              "      <td>0</td>\n",
              "      <td>1</td>\n",
              "      <td>125</td>\n",
              "      <td>2.6</td>\n",
              "      <td>3</td>\n",
              "      <td>0</td>\n",
              "    </tr>\n",
              "    <tr>\n",
              "      <th>3</th>\n",
              "      <td>61</td>\n",
              "      <td>1</td>\n",
              "      <td>0</td>\n",
              "      <td>148</td>\n",
              "      <td>203</td>\n",
              "      <td>0</td>\n",
              "      <td>1</td>\n",
              "      <td>161</td>\n",
              "      <td>0.0</td>\n",
              "      <td>3</td>\n",
              "      <td>0</td>\n",
              "    </tr>\n",
              "    <tr>\n",
              "      <th>4</th>\n",
              "      <td>62</td>\n",
              "      <td>0</td>\n",
              "      <td>0</td>\n",
              "      <td>138</td>\n",
              "      <td>294</td>\n",
              "      <td>1</td>\n",
              "      <td>1</td>\n",
              "      <td>106</td>\n",
              "      <td>1.9</td>\n",
              "      <td>2</td>\n",
              "      <td>0</td>\n",
              "    </tr>\n",
              "  </tbody>\n",
              "</table>\n",
              "</div>\n",
              "      <button class=\"colab-df-convert\" onclick=\"convertToInteractive('df-18636f49-92ca-41b9-a5e1-4e4acf45ccfb')\"\n",
              "              title=\"Convert this dataframe to an interactive table.\"\n",
              "              style=\"display:none;\">\n",
              "        \n",
              "  <svg xmlns=\"http://www.w3.org/2000/svg\" height=\"24px\"viewBox=\"0 0 24 24\"\n",
              "       width=\"24px\">\n",
              "    <path d=\"M0 0h24v24H0V0z\" fill=\"none\"/>\n",
              "    <path d=\"M18.56 5.44l.94 2.06.94-2.06 2.06-.94-2.06-.94-.94-2.06-.94 2.06-2.06.94zm-11 1L8.5 8.5l.94-2.06 2.06-.94-2.06-.94L8.5 2.5l-.94 2.06-2.06.94zm10 10l.94 2.06.94-2.06 2.06-.94-2.06-.94-.94-2.06-.94 2.06-2.06.94z\"/><path d=\"M17.41 7.96l-1.37-1.37c-.4-.4-.92-.59-1.43-.59-.52 0-1.04.2-1.43.59L10.3 9.45l-7.72 7.72c-.78.78-.78 2.05 0 2.83L4 21.41c.39.39.9.59 1.41.59.51 0 1.02-.2 1.41-.59l7.78-7.78 2.81-2.81c.8-.78.8-2.07 0-2.86zM5.41 20L4 18.59l7.72-7.72 1.47 1.35L5.41 20z\"/>\n",
              "  </svg>\n",
              "      </button>\n",
              "      \n",
              "  <style>\n",
              "    .colab-df-container {\n",
              "      display:flex;\n",
              "      flex-wrap:wrap;\n",
              "      gap: 12px;\n",
              "    }\n",
              "\n",
              "    .colab-df-convert {\n",
              "      background-color: #E8F0FE;\n",
              "      border: none;\n",
              "      border-radius: 50%;\n",
              "      cursor: pointer;\n",
              "      display: none;\n",
              "      fill: #1967D2;\n",
              "      height: 32px;\n",
              "      padding: 0 0 0 0;\n",
              "      width: 32px;\n",
              "    }\n",
              "\n",
              "    .colab-df-convert:hover {\n",
              "      background-color: #E2EBFA;\n",
              "      box-shadow: 0px 1px 2px rgba(60, 64, 67, 0.3), 0px 1px 3px 1px rgba(60, 64, 67, 0.15);\n",
              "      fill: #174EA6;\n",
              "    }\n",
              "\n",
              "    [theme=dark] .colab-df-convert {\n",
              "      background-color: #3B4455;\n",
              "      fill: #D2E3FC;\n",
              "    }\n",
              "\n",
              "    [theme=dark] .colab-df-convert:hover {\n",
              "      background-color: #434B5C;\n",
              "      box-shadow: 0px 1px 3px 1px rgba(0, 0, 0, 0.15);\n",
              "      filter: drop-shadow(0px 1px 2px rgba(0, 0, 0, 0.3));\n",
              "      fill: #FFFFFF;\n",
              "    }\n",
              "  </style>\n",
              "\n",
              "      <script>\n",
              "        const buttonEl =\n",
              "          document.querySelector('#df-18636f49-92ca-41b9-a5e1-4e4acf45ccfb button.colab-df-convert');\n",
              "        buttonEl.style.display =\n",
              "          google.colab.kernel.accessAllowed ? 'block' : 'none';\n",
              "\n",
              "        async function convertToInteractive(key) {\n",
              "          const element = document.querySelector('#df-18636f49-92ca-41b9-a5e1-4e4acf45ccfb');\n",
              "          const dataTable =\n",
              "            await google.colab.kernel.invokeFunction('convertToInteractive',\n",
              "                                                     [key], {});\n",
              "          if (!dataTable) return;\n",
              "\n",
              "          const docLinkHtml = 'Like what you see? Visit the ' +\n",
              "            '<a target=\"_blank\" href=https://colab.research.google.com/notebooks/data_table.ipynb>data table notebook</a>'\n",
              "            + ' to learn more about interactive tables.';\n",
              "          element.innerHTML = '';\n",
              "          dataTable['output_type'] = 'display_data';\n",
              "          await google.colab.output.renderOutput(dataTable, element);\n",
              "          const docLink = document.createElement('div');\n",
              "          docLink.innerHTML = docLinkHtml;\n",
              "          element.appendChild(docLink);\n",
              "        }\n",
              "      </script>\n",
              "    </div>\n",
              "  </div>\n",
              "  "
            ]
          },
          "metadata": {},
          "execution_count": 70
        }
      ]
    },
    {
      "cell_type": "code",
      "source": [
        "df.describe()"
      ],
      "metadata": {
        "colab": {
          "base_uri": "https://localhost:8080/",
          "height": 300
        },
        "id": "3kAmyc4PTLBY",
        "outputId": "517ef40b-f5da-46d5-af84-d912a72664f2"
      },
      "execution_count": 71,
      "outputs": [
        {
          "output_type": "execute_result",
          "data": {
            "text/plain": [
              "               age          sex  chest_pain_type  blood_pressure        chol  \\\n",
              "count  1025.000000  1025.000000      1025.000000     1025.000000  1025.00000   \n",
              "mean     54.434146     0.695610         0.942439      131.611707   246.00000   \n",
              "std       9.072290     0.460373         1.029641       17.516718    51.59251   \n",
              "min      29.000000     0.000000         0.000000       94.000000   126.00000   \n",
              "25%      48.000000     0.000000         0.000000      120.000000   211.00000   \n",
              "50%      56.000000     1.000000         1.000000      130.000000   240.00000   \n",
              "75%      61.000000     1.000000         2.000000      140.000000   275.00000   \n",
              "max      77.000000     1.000000         3.000000      200.000000   564.00000   \n",
              "\n",
              "       blood_sugar_ov120      restecg  max_heart_rate  oldpeak_st_depression  \\\n",
              "count        1025.000000  1025.000000     1025.000000            1025.000000   \n",
              "mean            0.149268     0.529756      149.114146               1.071512   \n",
              "std             0.356527     0.527878       23.005724               1.175053   \n",
              "min             0.000000     0.000000       71.000000               0.000000   \n",
              "25%             0.000000     0.000000      132.000000               0.000000   \n",
              "50%             0.000000     1.000000      152.000000               0.800000   \n",
              "75%             0.000000     1.000000      166.000000               1.800000   \n",
              "max             1.000000     2.000000      202.000000               6.200000   \n",
              "\n",
              "              thal    diagnosis  \n",
              "count  1025.000000  1025.000000  \n",
              "mean      2.323902     0.513171  \n",
              "std       0.620660     0.500070  \n",
              "min       0.000000     0.000000  \n",
              "25%       2.000000     0.000000  \n",
              "50%       2.000000     1.000000  \n",
              "75%       3.000000     1.000000  \n",
              "max       3.000000     1.000000  "
            ],
            "text/html": [
              "\n",
              "  <div id=\"df-a27331b3-a4f4-420d-a964-c0b4df010f04\">\n",
              "    <div class=\"colab-df-container\">\n",
              "      <div>\n",
              "<style scoped>\n",
              "    .dataframe tbody tr th:only-of-type {\n",
              "        vertical-align: middle;\n",
              "    }\n",
              "\n",
              "    .dataframe tbody tr th {\n",
              "        vertical-align: top;\n",
              "    }\n",
              "\n",
              "    .dataframe thead th {\n",
              "        text-align: right;\n",
              "    }\n",
              "</style>\n",
              "<table border=\"1\" class=\"dataframe\">\n",
              "  <thead>\n",
              "    <tr style=\"text-align: right;\">\n",
              "      <th></th>\n",
              "      <th>age</th>\n",
              "      <th>sex</th>\n",
              "      <th>chest_pain_type</th>\n",
              "      <th>blood_pressure</th>\n",
              "      <th>chol</th>\n",
              "      <th>blood_sugar_ov120</th>\n",
              "      <th>restecg</th>\n",
              "      <th>max_heart_rate</th>\n",
              "      <th>oldpeak_st_depression</th>\n",
              "      <th>thal</th>\n",
              "      <th>diagnosis</th>\n",
              "    </tr>\n",
              "  </thead>\n",
              "  <tbody>\n",
              "    <tr>\n",
              "      <th>count</th>\n",
              "      <td>1025.000000</td>\n",
              "      <td>1025.000000</td>\n",
              "      <td>1025.000000</td>\n",
              "      <td>1025.000000</td>\n",
              "      <td>1025.00000</td>\n",
              "      <td>1025.000000</td>\n",
              "      <td>1025.000000</td>\n",
              "      <td>1025.000000</td>\n",
              "      <td>1025.000000</td>\n",
              "      <td>1025.000000</td>\n",
              "      <td>1025.000000</td>\n",
              "    </tr>\n",
              "    <tr>\n",
              "      <th>mean</th>\n",
              "      <td>54.434146</td>\n",
              "      <td>0.695610</td>\n",
              "      <td>0.942439</td>\n",
              "      <td>131.611707</td>\n",
              "      <td>246.00000</td>\n",
              "      <td>0.149268</td>\n",
              "      <td>0.529756</td>\n",
              "      <td>149.114146</td>\n",
              "      <td>1.071512</td>\n",
              "      <td>2.323902</td>\n",
              "      <td>0.513171</td>\n",
              "    </tr>\n",
              "    <tr>\n",
              "      <th>std</th>\n",
              "      <td>9.072290</td>\n",
              "      <td>0.460373</td>\n",
              "      <td>1.029641</td>\n",
              "      <td>17.516718</td>\n",
              "      <td>51.59251</td>\n",
              "      <td>0.356527</td>\n",
              "      <td>0.527878</td>\n",
              "      <td>23.005724</td>\n",
              "      <td>1.175053</td>\n",
              "      <td>0.620660</td>\n",
              "      <td>0.500070</td>\n",
              "    </tr>\n",
              "    <tr>\n",
              "      <th>min</th>\n",
              "      <td>29.000000</td>\n",
              "      <td>0.000000</td>\n",
              "      <td>0.000000</td>\n",
              "      <td>94.000000</td>\n",
              "      <td>126.00000</td>\n",
              "      <td>0.000000</td>\n",
              "      <td>0.000000</td>\n",
              "      <td>71.000000</td>\n",
              "      <td>0.000000</td>\n",
              "      <td>0.000000</td>\n",
              "      <td>0.000000</td>\n",
              "    </tr>\n",
              "    <tr>\n",
              "      <th>25%</th>\n",
              "      <td>48.000000</td>\n",
              "      <td>0.000000</td>\n",
              "      <td>0.000000</td>\n",
              "      <td>120.000000</td>\n",
              "      <td>211.00000</td>\n",
              "      <td>0.000000</td>\n",
              "      <td>0.000000</td>\n",
              "      <td>132.000000</td>\n",
              "      <td>0.000000</td>\n",
              "      <td>2.000000</td>\n",
              "      <td>0.000000</td>\n",
              "    </tr>\n",
              "    <tr>\n",
              "      <th>50%</th>\n",
              "      <td>56.000000</td>\n",
              "      <td>1.000000</td>\n",
              "      <td>1.000000</td>\n",
              "      <td>130.000000</td>\n",
              "      <td>240.00000</td>\n",
              "      <td>0.000000</td>\n",
              "      <td>1.000000</td>\n",
              "      <td>152.000000</td>\n",
              "      <td>0.800000</td>\n",
              "      <td>2.000000</td>\n",
              "      <td>1.000000</td>\n",
              "    </tr>\n",
              "    <tr>\n",
              "      <th>75%</th>\n",
              "      <td>61.000000</td>\n",
              "      <td>1.000000</td>\n",
              "      <td>2.000000</td>\n",
              "      <td>140.000000</td>\n",
              "      <td>275.00000</td>\n",
              "      <td>0.000000</td>\n",
              "      <td>1.000000</td>\n",
              "      <td>166.000000</td>\n",
              "      <td>1.800000</td>\n",
              "      <td>3.000000</td>\n",
              "      <td>1.000000</td>\n",
              "    </tr>\n",
              "    <tr>\n",
              "      <th>max</th>\n",
              "      <td>77.000000</td>\n",
              "      <td>1.000000</td>\n",
              "      <td>3.000000</td>\n",
              "      <td>200.000000</td>\n",
              "      <td>564.00000</td>\n",
              "      <td>1.000000</td>\n",
              "      <td>2.000000</td>\n",
              "      <td>202.000000</td>\n",
              "      <td>6.200000</td>\n",
              "      <td>3.000000</td>\n",
              "      <td>1.000000</td>\n",
              "    </tr>\n",
              "  </tbody>\n",
              "</table>\n",
              "</div>\n",
              "      <button class=\"colab-df-convert\" onclick=\"convertToInteractive('df-a27331b3-a4f4-420d-a964-c0b4df010f04')\"\n",
              "              title=\"Convert this dataframe to an interactive table.\"\n",
              "              style=\"display:none;\">\n",
              "        \n",
              "  <svg xmlns=\"http://www.w3.org/2000/svg\" height=\"24px\"viewBox=\"0 0 24 24\"\n",
              "       width=\"24px\">\n",
              "    <path d=\"M0 0h24v24H0V0z\" fill=\"none\"/>\n",
              "    <path d=\"M18.56 5.44l.94 2.06.94-2.06 2.06-.94-2.06-.94-.94-2.06-.94 2.06-2.06.94zm-11 1L8.5 8.5l.94-2.06 2.06-.94-2.06-.94L8.5 2.5l-.94 2.06-2.06.94zm10 10l.94 2.06.94-2.06 2.06-.94-2.06-.94-.94-2.06-.94 2.06-2.06.94z\"/><path d=\"M17.41 7.96l-1.37-1.37c-.4-.4-.92-.59-1.43-.59-.52 0-1.04.2-1.43.59L10.3 9.45l-7.72 7.72c-.78.78-.78 2.05 0 2.83L4 21.41c.39.39.9.59 1.41.59.51 0 1.02-.2 1.41-.59l7.78-7.78 2.81-2.81c.8-.78.8-2.07 0-2.86zM5.41 20L4 18.59l7.72-7.72 1.47 1.35L5.41 20z\"/>\n",
              "  </svg>\n",
              "      </button>\n",
              "      \n",
              "  <style>\n",
              "    .colab-df-container {\n",
              "      display:flex;\n",
              "      flex-wrap:wrap;\n",
              "      gap: 12px;\n",
              "    }\n",
              "\n",
              "    .colab-df-convert {\n",
              "      background-color: #E8F0FE;\n",
              "      border: none;\n",
              "      border-radius: 50%;\n",
              "      cursor: pointer;\n",
              "      display: none;\n",
              "      fill: #1967D2;\n",
              "      height: 32px;\n",
              "      padding: 0 0 0 0;\n",
              "      width: 32px;\n",
              "    }\n",
              "\n",
              "    .colab-df-convert:hover {\n",
              "      background-color: #E2EBFA;\n",
              "      box-shadow: 0px 1px 2px rgba(60, 64, 67, 0.3), 0px 1px 3px 1px rgba(60, 64, 67, 0.15);\n",
              "      fill: #174EA6;\n",
              "    }\n",
              "\n",
              "    [theme=dark] .colab-df-convert {\n",
              "      background-color: #3B4455;\n",
              "      fill: #D2E3FC;\n",
              "    }\n",
              "\n",
              "    [theme=dark] .colab-df-convert:hover {\n",
              "      background-color: #434B5C;\n",
              "      box-shadow: 0px 1px 3px 1px rgba(0, 0, 0, 0.15);\n",
              "      filter: drop-shadow(0px 1px 2px rgba(0, 0, 0, 0.3));\n",
              "      fill: #FFFFFF;\n",
              "    }\n",
              "  </style>\n",
              "\n",
              "      <script>\n",
              "        const buttonEl =\n",
              "          document.querySelector('#df-a27331b3-a4f4-420d-a964-c0b4df010f04 button.colab-df-convert');\n",
              "        buttonEl.style.display =\n",
              "          google.colab.kernel.accessAllowed ? 'block' : 'none';\n",
              "\n",
              "        async function convertToInteractive(key) {\n",
              "          const element = document.querySelector('#df-a27331b3-a4f4-420d-a964-c0b4df010f04');\n",
              "          const dataTable =\n",
              "            await google.colab.kernel.invokeFunction('convertToInteractive',\n",
              "                                                     [key], {});\n",
              "          if (!dataTable) return;\n",
              "\n",
              "          const docLinkHtml = 'Like what you see? Visit the ' +\n",
              "            '<a target=\"_blank\" href=https://colab.research.google.com/notebooks/data_table.ipynb>data table notebook</a>'\n",
              "            + ' to learn more about interactive tables.';\n",
              "          element.innerHTML = '';\n",
              "          dataTable['output_type'] = 'display_data';\n",
              "          await google.colab.output.renderOutput(dataTable, element);\n",
              "          const docLink = document.createElement('div');\n",
              "          docLink.innerHTML = docLinkHtml;\n",
              "          element.appendChild(docLink);\n",
              "        }\n",
              "      </script>\n",
              "    </div>\n",
              "  </div>\n",
              "  "
            ]
          },
          "metadata": {},
          "execution_count": 71
        }
      ]
    },
    {
      "cell_type": "markdown",
      "source": [
        "### Drop undesired columns\n"
      ],
      "metadata": {
        "id": "cIpzSzkGTPw2"
      }
    },
    {
      "cell_type": "code",
      "source": [
        "df.drop([\"chest_pain_type\", \"restecg\", \"max_heart_rate\",\n",
        "        \"oldpeak_st_depression\", \"thal\"], axis=1, inplace=True)"
      ],
      "metadata": {
        "id": "hWZIPIezTR0m"
      },
      "execution_count": 72,
      "outputs": []
    },
    {
      "cell_type": "markdown",
      "source": [
        "### Dealing with missing data"
      ],
      "metadata": {
        "id": "x_4A-hVITSqc"
      }
    },
    {
      "cell_type": "code",
      "source": [
        "df.isnull().sum()\n",
        "# No missing values"
      ],
      "metadata": {
        "colab": {
          "base_uri": "https://localhost:8080/"
        },
        "id": "74k3ZYo3TVrJ",
        "outputId": "9c021ff7-0719-4887-9eee-7245d08eef1c"
      },
      "execution_count": 73,
      "outputs": [
        {
          "output_type": "execute_result",
          "data": {
            "text/plain": [
              "age                  0\n",
              "sex                  0\n",
              "blood_pressure       0\n",
              "chol                 0\n",
              "blood_sugar_ov120    0\n",
              "diagnosis            0\n",
              "dtype: int64"
            ]
          },
          "metadata": {},
          "execution_count": 73
        }
      ]
    },
    {
      "cell_type": "markdown",
      "source": [
        "### One-Hot Encoding"
      ],
      "metadata": {
        "id": "nu-P7OebTZwz"
      }
    },
    {
      "cell_type": "code",
      "source": [
        "# Pandas get_dummies function will be used to perform One-Hot Encoding on column \"blood_sugar_ov120\"\n",
        "dummy_df = pd.get_dummies(df[\"blood_sugar_ov120\"], prefix=\"blood_sugar_ov120\")\n",
        "df = pd.concat([df, dummy_df], axis=1)\n",
        "df = df.drop([\"blood_sugar_ov120\"], axis=1)"
      ],
      "metadata": {
        "id": "0d6lMChsTcz_"
      },
      "execution_count": 74,
      "outputs": []
    },
    {
      "cell_type": "markdown",
      "source": [
        "### Re-ordering columns"
      ],
      "metadata": {
        "id": "mNXrpaVJTfJ7"
      }
    },
    {
      "cell_type": "code",
      "source": [
        "df = df[[\"age\", \"sex\", \"blood_pressure\", \"chol\",\n",
        "         \"blood_sugar_ov120_0\", \"blood_sugar_ov120_1\", \"diagnosis\"]]"
      ],
      "metadata": {
        "id": "GU664tGYThE2"
      },
      "execution_count": 75,
      "outputs": []
    },
    {
      "cell_type": "code",
      "source": [
        "df"
      ],
      "metadata": {
        "colab": {
          "base_uri": "https://localhost:8080/",
          "height": 424
        },
        "id": "Ndat8O4gTiJG",
        "outputId": "26cce56b-03fd-4261-c763-2c721902d188"
      },
      "execution_count": 76,
      "outputs": [
        {
          "output_type": "execute_result",
          "data": {
            "text/plain": [
              "      age  sex  blood_pressure  chol  blood_sugar_ov120_0  \\\n",
              "0      52    1             125   212                    1   \n",
              "1      53    1             140   203                    0   \n",
              "2      70    1             145   174                    1   \n",
              "3      61    1             148   203                    1   \n",
              "4      62    0             138   294                    0   \n",
              "...   ...  ...             ...   ...                  ...   \n",
              "1020   57    1             150   126                    0   \n",
              "1021   60    1             125   258                    1   \n",
              "1022   47    1             110   275                    1   \n",
              "1023   57    1             150   126                    0   \n",
              "1024   54    1             120   188                    1   \n",
              "\n",
              "      blood_sugar_ov120_1  diagnosis  \n",
              "0                       0          0  \n",
              "1                       1          0  \n",
              "2                       0          0  \n",
              "3                       0          0  \n",
              "4                       1          0  \n",
              "...                   ...        ...  \n",
              "1020                    1          1  \n",
              "1021                    0          0  \n",
              "1022                    0          0  \n",
              "1023                    1          1  \n",
              "1024                    0          0  \n",
              "\n",
              "[1025 rows x 7 columns]"
            ],
            "text/html": [
              "\n",
              "  <div id=\"df-55aa70ab-cfe2-4ab1-badf-769672f7a497\">\n",
              "    <div class=\"colab-df-container\">\n",
              "      <div>\n",
              "<style scoped>\n",
              "    .dataframe tbody tr th:only-of-type {\n",
              "        vertical-align: middle;\n",
              "    }\n",
              "\n",
              "    .dataframe tbody tr th {\n",
              "        vertical-align: top;\n",
              "    }\n",
              "\n",
              "    .dataframe thead th {\n",
              "        text-align: right;\n",
              "    }\n",
              "</style>\n",
              "<table border=\"1\" class=\"dataframe\">\n",
              "  <thead>\n",
              "    <tr style=\"text-align: right;\">\n",
              "      <th></th>\n",
              "      <th>age</th>\n",
              "      <th>sex</th>\n",
              "      <th>blood_pressure</th>\n",
              "      <th>chol</th>\n",
              "      <th>blood_sugar_ov120_0</th>\n",
              "      <th>blood_sugar_ov120_1</th>\n",
              "      <th>diagnosis</th>\n",
              "    </tr>\n",
              "  </thead>\n",
              "  <tbody>\n",
              "    <tr>\n",
              "      <th>0</th>\n",
              "      <td>52</td>\n",
              "      <td>1</td>\n",
              "      <td>125</td>\n",
              "      <td>212</td>\n",
              "      <td>1</td>\n",
              "      <td>0</td>\n",
              "      <td>0</td>\n",
              "    </tr>\n",
              "    <tr>\n",
              "      <th>1</th>\n",
              "      <td>53</td>\n",
              "      <td>1</td>\n",
              "      <td>140</td>\n",
              "      <td>203</td>\n",
              "      <td>0</td>\n",
              "      <td>1</td>\n",
              "      <td>0</td>\n",
              "    </tr>\n",
              "    <tr>\n",
              "      <th>2</th>\n",
              "      <td>70</td>\n",
              "      <td>1</td>\n",
              "      <td>145</td>\n",
              "      <td>174</td>\n",
              "      <td>1</td>\n",
              "      <td>0</td>\n",
              "      <td>0</td>\n",
              "    </tr>\n",
              "    <tr>\n",
              "      <th>3</th>\n",
              "      <td>61</td>\n",
              "      <td>1</td>\n",
              "      <td>148</td>\n",
              "      <td>203</td>\n",
              "      <td>1</td>\n",
              "      <td>0</td>\n",
              "      <td>0</td>\n",
              "    </tr>\n",
              "    <tr>\n",
              "      <th>4</th>\n",
              "      <td>62</td>\n",
              "      <td>0</td>\n",
              "      <td>138</td>\n",
              "      <td>294</td>\n",
              "      <td>0</td>\n",
              "      <td>1</td>\n",
              "      <td>0</td>\n",
              "    </tr>\n",
              "    <tr>\n",
              "      <th>...</th>\n",
              "      <td>...</td>\n",
              "      <td>...</td>\n",
              "      <td>...</td>\n",
              "      <td>...</td>\n",
              "      <td>...</td>\n",
              "      <td>...</td>\n",
              "      <td>...</td>\n",
              "    </tr>\n",
              "    <tr>\n",
              "      <th>1020</th>\n",
              "      <td>57</td>\n",
              "      <td>1</td>\n",
              "      <td>150</td>\n",
              "      <td>126</td>\n",
              "      <td>0</td>\n",
              "      <td>1</td>\n",
              "      <td>1</td>\n",
              "    </tr>\n",
              "    <tr>\n",
              "      <th>1021</th>\n",
              "      <td>60</td>\n",
              "      <td>1</td>\n",
              "      <td>125</td>\n",
              "      <td>258</td>\n",
              "      <td>1</td>\n",
              "      <td>0</td>\n",
              "      <td>0</td>\n",
              "    </tr>\n",
              "    <tr>\n",
              "      <th>1022</th>\n",
              "      <td>47</td>\n",
              "      <td>1</td>\n",
              "      <td>110</td>\n",
              "      <td>275</td>\n",
              "      <td>1</td>\n",
              "      <td>0</td>\n",
              "      <td>0</td>\n",
              "    </tr>\n",
              "    <tr>\n",
              "      <th>1023</th>\n",
              "      <td>57</td>\n",
              "      <td>1</td>\n",
              "      <td>150</td>\n",
              "      <td>126</td>\n",
              "      <td>0</td>\n",
              "      <td>1</td>\n",
              "      <td>1</td>\n",
              "    </tr>\n",
              "    <tr>\n",
              "      <th>1024</th>\n",
              "      <td>54</td>\n",
              "      <td>1</td>\n",
              "      <td>120</td>\n",
              "      <td>188</td>\n",
              "      <td>1</td>\n",
              "      <td>0</td>\n",
              "      <td>0</td>\n",
              "    </tr>\n",
              "  </tbody>\n",
              "</table>\n",
              "<p>1025 rows × 7 columns</p>\n",
              "</div>\n",
              "      <button class=\"colab-df-convert\" onclick=\"convertToInteractive('df-55aa70ab-cfe2-4ab1-badf-769672f7a497')\"\n",
              "              title=\"Convert this dataframe to an interactive table.\"\n",
              "              style=\"display:none;\">\n",
              "        \n",
              "  <svg xmlns=\"http://www.w3.org/2000/svg\" height=\"24px\"viewBox=\"0 0 24 24\"\n",
              "       width=\"24px\">\n",
              "    <path d=\"M0 0h24v24H0V0z\" fill=\"none\"/>\n",
              "    <path d=\"M18.56 5.44l.94 2.06.94-2.06 2.06-.94-2.06-.94-.94-2.06-.94 2.06-2.06.94zm-11 1L8.5 8.5l.94-2.06 2.06-.94-2.06-.94L8.5 2.5l-.94 2.06-2.06.94zm10 10l.94 2.06.94-2.06 2.06-.94-2.06-.94-.94-2.06-.94 2.06-2.06.94z\"/><path d=\"M17.41 7.96l-1.37-1.37c-.4-.4-.92-.59-1.43-.59-.52 0-1.04.2-1.43.59L10.3 9.45l-7.72 7.72c-.78.78-.78 2.05 0 2.83L4 21.41c.39.39.9.59 1.41.59.51 0 1.02-.2 1.41-.59l7.78-7.78 2.81-2.81c.8-.78.8-2.07 0-2.86zM5.41 20L4 18.59l7.72-7.72 1.47 1.35L5.41 20z\"/>\n",
              "  </svg>\n",
              "      </button>\n",
              "      \n",
              "  <style>\n",
              "    .colab-df-container {\n",
              "      display:flex;\n",
              "      flex-wrap:wrap;\n",
              "      gap: 12px;\n",
              "    }\n",
              "\n",
              "    .colab-df-convert {\n",
              "      background-color: #E8F0FE;\n",
              "      border: none;\n",
              "      border-radius: 50%;\n",
              "      cursor: pointer;\n",
              "      display: none;\n",
              "      fill: #1967D2;\n",
              "      height: 32px;\n",
              "      padding: 0 0 0 0;\n",
              "      width: 32px;\n",
              "    }\n",
              "\n",
              "    .colab-df-convert:hover {\n",
              "      background-color: #E2EBFA;\n",
              "      box-shadow: 0px 1px 2px rgba(60, 64, 67, 0.3), 0px 1px 3px 1px rgba(60, 64, 67, 0.15);\n",
              "      fill: #174EA6;\n",
              "    }\n",
              "\n",
              "    [theme=dark] .colab-df-convert {\n",
              "      background-color: #3B4455;\n",
              "      fill: #D2E3FC;\n",
              "    }\n",
              "\n",
              "    [theme=dark] .colab-df-convert:hover {\n",
              "      background-color: #434B5C;\n",
              "      box-shadow: 0px 1px 3px 1px rgba(0, 0, 0, 0.15);\n",
              "      filter: drop-shadow(0px 1px 2px rgba(0, 0, 0, 0.3));\n",
              "      fill: #FFFFFF;\n",
              "    }\n",
              "  </style>\n",
              "\n",
              "      <script>\n",
              "        const buttonEl =\n",
              "          document.querySelector('#df-55aa70ab-cfe2-4ab1-badf-769672f7a497 button.colab-df-convert');\n",
              "        buttonEl.style.display =\n",
              "          google.colab.kernel.accessAllowed ? 'block' : 'none';\n",
              "\n",
              "        async function convertToInteractive(key) {\n",
              "          const element = document.querySelector('#df-55aa70ab-cfe2-4ab1-badf-769672f7a497');\n",
              "          const dataTable =\n",
              "            await google.colab.kernel.invokeFunction('convertToInteractive',\n",
              "                                                     [key], {});\n",
              "          if (!dataTable) return;\n",
              "\n",
              "          const docLinkHtml = 'Like what you see? Visit the ' +\n",
              "            '<a target=\"_blank\" href=https://colab.research.google.com/notebooks/data_table.ipynb>data table notebook</a>'\n",
              "            + ' to learn more about interactive tables.';\n",
              "          element.innerHTML = '';\n",
              "          dataTable['output_type'] = 'display_data';\n",
              "          await google.colab.output.renderOutput(dataTable, element);\n",
              "          const docLink = document.createElement('div');\n",
              "          docLink.innerHTML = docLinkHtml;\n",
              "          element.appendChild(docLink);\n",
              "        }\n",
              "      </script>\n",
              "    </div>\n",
              "  </div>\n",
              "  "
            ]
          },
          "metadata": {},
          "execution_count": 76
        }
      ]
    },
    {
      "cell_type": "markdown",
      "source": [
        "### Defining inputs and outputs"
      ],
      "metadata": {
        "id": "2qF4NGhtTjv9"
      }
    },
    {
      "cell_type": "code",
      "source": [
        "# \"age, sex, blood_pressure, chol, blood_sugar\" columns will be our inputs.\n",
        "# The algorithm will predict \"diagnosis\" values according to these inputs.\n",
        "X = df.drop([\"diagnosis\"], axis=1)\n",
        "y = df[\"diagnosis\"]"
      ],
      "metadata": {
        "id": "QiLs21LITmig"
      },
      "execution_count": 77,
      "outputs": []
    },
    {
      "cell_type": "markdown",
      "source": [
        "### Train Test Split"
      ],
      "metadata": {
        "id": "Al7kR7R6Tn-H"
      }
    },
    {
      "cell_type": "code",
      "source": [
        "X_train, X_test, y_train, y_test, = train_test_split(\n",
        "    X, y, test_size=0.3, random_state=42)"
      ],
      "metadata": {
        "id": "OoGXoNScTqZW"
      },
      "execution_count": 78,
      "outputs": []
    },
    {
      "cell_type": "markdown",
      "source": [
        "### Train the machine with Random Forest Classifier and make predictions for \"diagnosis\""
      ],
      "metadata": {
        "id": "Y4N5Q4WQTvZL"
      }
    },
    {
      "cell_type": "code",
      "source": [
        "rfc = RandomForestClassifier()\n",
        "\n",
        "start_time = time.time()\n",
        "rfc.fit(X_train, y_train)  # training\n",
        "rfc_training_time = \"%.4f\" % (time.time() - start_time)"
      ],
      "metadata": {
        "id": "cfXnSi05Tzdd"
      },
      "execution_count": 79,
      "outputs": []
    },
    {
      "cell_type": "code",
      "source": [
        "start_time = time.time()\n",
        "ypred = rfc.predict(X_test)  # predicting\n",
        "rfx_predict_time = \"%.4f\" % (time.time() - start_time)"
      ],
      "metadata": {
        "id": "ISGskU6yT1Ob"
      },
      "execution_count": 80,
      "outputs": []
    },
    {
      "cell_type": "markdown",
      "source": [
        "### Random Forest evaluation and success metrics"
      ],
      "metadata": {
        "id": "sxRy66RJT2O6"
      }
    },
    {
      "cell_type": "code",
      "source": [
        "def cross_val(model):\n",
        "    score = cross_val_score(model, X_train, y_train, cv=10).mean()\n",
        "    return score"
      ],
      "metadata": {
        "id": "DeMNHu7OT6L4"
      },
      "execution_count": 81,
      "outputs": []
    },
    {
      "cell_type": "markdown",
      "source": [
        "### Calculate the accuracy score"
      ],
      "metadata": {
        "id": "n0TE3ZOKT9Fq"
      }
    },
    {
      "cell_type": "code",
      "source": [
        "start_time = time.time()\n",
        "rfc_acscore = accuracy_score(y_test, ypred)\n",
        "rfc_acc_evaluation_time = \"%.4f\" % (time.time() - start_time)\n",
        "\n",
        "start_time = time.time()\n",
        "rfc_cv = cross_val(rfc)\n",
        "rfc_cv_evaluation_time = \"%.4f\" % (time.time() - start_time)"
      ],
      "metadata": {
        "id": "cYHJ-GPbT7Kq"
      },
      "execution_count": 82,
      "outputs": []
    },
    {
      "cell_type": "markdown",
      "source": [
        "### Random Forest Classification Results\n"
      ],
      "metadata": {
        "id": "Ite03ExHUA9N"
      }
    },
    {
      "cell_type": "code",
      "source": [
        "print(\"Random Forest Accuracy Score: \", rfc_acscore)\n",
        "print(\"Random Forest Cross Validation Score: \", rfc_cv)\n",
        "print(\"Random Forest Training Time (s): \", rfc_training_time)\n",
        "print(\"Random Forest Prediction Time (s): \", rfx_predict_time)\n",
        "print(\"Random Forest Evaluation Time (s): \", rfc_acc_evaluation_time)\n",
        "print(\"Random Forest Cross Validation Evaluation Time (s): \", rfc_cv_evaluation_time)"
      ],
      "metadata": {
        "colab": {
          "base_uri": "https://localhost:8080/"
        },
        "id": "Z15Y0o9YUEh8",
        "outputId": "3cab8187-ff85-45cc-9c0c-ac572bb0e974"
      },
      "execution_count": 83,
      "outputs": [
        {
          "output_type": "stream",
          "name": "stdout",
          "text": [
            "Random Forest Accuracy Score:  0.9805194805194806\n",
            "Random Forest Cross Validation Score:  0.963810641627543\n",
            "Random Forest Training Time (s):  0.1824\n",
            "Random Forest Prediction Time (s):  0.0282\n",
            "Random Forest Evaluation Time (s):  0.0011\n",
            "Random Forest Cross Validation Evaluation Time (s):  1.9522\n"
          ]
        }
      ]
    },
    {
      "cell_type": "markdown",
      "source": [
        "## Fuzzy Logic Implementation"
      ],
      "metadata": {
        "id": "TS7ce28dUFMD"
      }
    },
    {
      "cell_type": "code",
      "source": [
        "df.drop([\"blood_sugar_ov120_0\", \"blood_sugar_ov120_1\", \"sex\"],\n",
        "        axis=1, inplace=True)"
      ],
      "metadata": {
        "id": "vCmhaiI0UQ-0"
      },
      "execution_count": 84,
      "outputs": []
    },
    {
      "cell_type": "code",
      "source": [
        "df"
      ],
      "metadata": {
        "colab": {
          "base_uri": "https://localhost:8080/",
          "height": 424
        },
        "id": "Mx1F0ayRURtK",
        "outputId": "cf03c288-9ff9-4484-940d-a97c524bdfd0"
      },
      "execution_count": 85,
      "outputs": [
        {
          "output_type": "execute_result",
          "data": {
            "text/plain": [
              "      age  blood_pressure  chol  diagnosis\n",
              "0      52             125   212          0\n",
              "1      53             140   203          0\n",
              "2      70             145   174          0\n",
              "3      61             148   203          0\n",
              "4      62             138   294          0\n",
              "...   ...             ...   ...        ...\n",
              "1020   57             150   126          1\n",
              "1021   60             125   258          0\n",
              "1022   47             110   275          0\n",
              "1023   57             150   126          1\n",
              "1024   54             120   188          0\n",
              "\n",
              "[1025 rows x 4 columns]"
            ],
            "text/html": [
              "\n",
              "  <div id=\"df-e861ba42-ce23-433c-a07a-d5a1b4185e43\">\n",
              "    <div class=\"colab-df-container\">\n",
              "      <div>\n",
              "<style scoped>\n",
              "    .dataframe tbody tr th:only-of-type {\n",
              "        vertical-align: middle;\n",
              "    }\n",
              "\n",
              "    .dataframe tbody tr th {\n",
              "        vertical-align: top;\n",
              "    }\n",
              "\n",
              "    .dataframe thead th {\n",
              "        text-align: right;\n",
              "    }\n",
              "</style>\n",
              "<table border=\"1\" class=\"dataframe\">\n",
              "  <thead>\n",
              "    <tr style=\"text-align: right;\">\n",
              "      <th></th>\n",
              "      <th>age</th>\n",
              "      <th>blood_pressure</th>\n",
              "      <th>chol</th>\n",
              "      <th>diagnosis</th>\n",
              "    </tr>\n",
              "  </thead>\n",
              "  <tbody>\n",
              "    <tr>\n",
              "      <th>0</th>\n",
              "      <td>52</td>\n",
              "      <td>125</td>\n",
              "      <td>212</td>\n",
              "      <td>0</td>\n",
              "    </tr>\n",
              "    <tr>\n",
              "      <th>1</th>\n",
              "      <td>53</td>\n",
              "      <td>140</td>\n",
              "      <td>203</td>\n",
              "      <td>0</td>\n",
              "    </tr>\n",
              "    <tr>\n",
              "      <th>2</th>\n",
              "      <td>70</td>\n",
              "      <td>145</td>\n",
              "      <td>174</td>\n",
              "      <td>0</td>\n",
              "    </tr>\n",
              "    <tr>\n",
              "      <th>3</th>\n",
              "      <td>61</td>\n",
              "      <td>148</td>\n",
              "      <td>203</td>\n",
              "      <td>0</td>\n",
              "    </tr>\n",
              "    <tr>\n",
              "      <th>4</th>\n",
              "      <td>62</td>\n",
              "      <td>138</td>\n",
              "      <td>294</td>\n",
              "      <td>0</td>\n",
              "    </tr>\n",
              "    <tr>\n",
              "      <th>...</th>\n",
              "      <td>...</td>\n",
              "      <td>...</td>\n",
              "      <td>...</td>\n",
              "      <td>...</td>\n",
              "    </tr>\n",
              "    <tr>\n",
              "      <th>1020</th>\n",
              "      <td>57</td>\n",
              "      <td>150</td>\n",
              "      <td>126</td>\n",
              "      <td>1</td>\n",
              "    </tr>\n",
              "    <tr>\n",
              "      <th>1021</th>\n",
              "      <td>60</td>\n",
              "      <td>125</td>\n",
              "      <td>258</td>\n",
              "      <td>0</td>\n",
              "    </tr>\n",
              "    <tr>\n",
              "      <th>1022</th>\n",
              "      <td>47</td>\n",
              "      <td>110</td>\n",
              "      <td>275</td>\n",
              "      <td>0</td>\n",
              "    </tr>\n",
              "    <tr>\n",
              "      <th>1023</th>\n",
              "      <td>57</td>\n",
              "      <td>150</td>\n",
              "      <td>126</td>\n",
              "      <td>1</td>\n",
              "    </tr>\n",
              "    <tr>\n",
              "      <th>1024</th>\n",
              "      <td>54</td>\n",
              "      <td>120</td>\n",
              "      <td>188</td>\n",
              "      <td>0</td>\n",
              "    </tr>\n",
              "  </tbody>\n",
              "</table>\n",
              "<p>1025 rows × 4 columns</p>\n",
              "</div>\n",
              "      <button class=\"colab-df-convert\" onclick=\"convertToInteractive('df-e861ba42-ce23-433c-a07a-d5a1b4185e43')\"\n",
              "              title=\"Convert this dataframe to an interactive table.\"\n",
              "              style=\"display:none;\">\n",
              "        \n",
              "  <svg xmlns=\"http://www.w3.org/2000/svg\" height=\"24px\"viewBox=\"0 0 24 24\"\n",
              "       width=\"24px\">\n",
              "    <path d=\"M0 0h24v24H0V0z\" fill=\"none\"/>\n",
              "    <path d=\"M18.56 5.44l.94 2.06.94-2.06 2.06-.94-2.06-.94-.94-2.06-.94 2.06-2.06.94zm-11 1L8.5 8.5l.94-2.06 2.06-.94-2.06-.94L8.5 2.5l-.94 2.06-2.06.94zm10 10l.94 2.06.94-2.06 2.06-.94-2.06-.94-.94-2.06-.94 2.06-2.06.94z\"/><path d=\"M17.41 7.96l-1.37-1.37c-.4-.4-.92-.59-1.43-.59-.52 0-1.04.2-1.43.59L10.3 9.45l-7.72 7.72c-.78.78-.78 2.05 0 2.83L4 21.41c.39.39.9.59 1.41.59.51 0 1.02-.2 1.41-.59l7.78-7.78 2.81-2.81c.8-.78.8-2.07 0-2.86zM5.41 20L4 18.59l7.72-7.72 1.47 1.35L5.41 20z\"/>\n",
              "  </svg>\n",
              "      </button>\n",
              "      \n",
              "  <style>\n",
              "    .colab-df-container {\n",
              "      display:flex;\n",
              "      flex-wrap:wrap;\n",
              "      gap: 12px;\n",
              "    }\n",
              "\n",
              "    .colab-df-convert {\n",
              "      background-color: #E8F0FE;\n",
              "      border: none;\n",
              "      border-radius: 50%;\n",
              "      cursor: pointer;\n",
              "      display: none;\n",
              "      fill: #1967D2;\n",
              "      height: 32px;\n",
              "      padding: 0 0 0 0;\n",
              "      width: 32px;\n",
              "    }\n",
              "\n",
              "    .colab-df-convert:hover {\n",
              "      background-color: #E2EBFA;\n",
              "      box-shadow: 0px 1px 2px rgba(60, 64, 67, 0.3), 0px 1px 3px 1px rgba(60, 64, 67, 0.15);\n",
              "      fill: #174EA6;\n",
              "    }\n",
              "\n",
              "    [theme=dark] .colab-df-convert {\n",
              "      background-color: #3B4455;\n",
              "      fill: #D2E3FC;\n",
              "    }\n",
              "\n",
              "    [theme=dark] .colab-df-convert:hover {\n",
              "      background-color: #434B5C;\n",
              "      box-shadow: 0px 1px 3px 1px rgba(0, 0, 0, 0.15);\n",
              "      filter: drop-shadow(0px 1px 2px rgba(0, 0, 0, 0.3));\n",
              "      fill: #FFFFFF;\n",
              "    }\n",
              "  </style>\n",
              "\n",
              "      <script>\n",
              "        const buttonEl =\n",
              "          document.querySelector('#df-e861ba42-ce23-433c-a07a-d5a1b4185e43 button.colab-df-convert');\n",
              "        buttonEl.style.display =\n",
              "          google.colab.kernel.accessAllowed ? 'block' : 'none';\n",
              "\n",
              "        async function convertToInteractive(key) {\n",
              "          const element = document.querySelector('#df-e861ba42-ce23-433c-a07a-d5a1b4185e43');\n",
              "          const dataTable =\n",
              "            await google.colab.kernel.invokeFunction('convertToInteractive',\n",
              "                                                     [key], {});\n",
              "          if (!dataTable) return;\n",
              "\n",
              "          const docLinkHtml = 'Like what you see? Visit the ' +\n",
              "            '<a target=\"_blank\" href=https://colab.research.google.com/notebooks/data_table.ipynb>data table notebook</a>'\n",
              "            + ' to learn more about interactive tables.';\n",
              "          element.innerHTML = '';\n",
              "          dataTable['output_type'] = 'display_data';\n",
              "          await google.colab.output.renderOutput(dataTable, element);\n",
              "          const docLink = document.createElement('div');\n",
              "          docLink.innerHTML = docLinkHtml;\n",
              "          element.appendChild(docLink);\n",
              "        }\n",
              "      </script>\n",
              "    </div>\n",
              "  </div>\n",
              "  "
            ]
          },
          "metadata": {},
          "execution_count": 85
        }
      ]
    },
    {
      "cell_type": "markdown",
      "source": [
        "### Memberships"
      ],
      "metadata": {
        "id": "rarU8gliUdBo"
      }
    },
    {
      "cell_type": "code",
      "source": [
        "# \"age\" low: 30-45 / average: 45-55 / high: 55-75\n",
        "# \"bloodpressure (mm Hg)\" low: 90-120 / average: 120-140 / high: >140\n",
        "# \"cholesterol (mg/dL)\" low: 120-200 / average: 200-240 / high: >240"
      ],
      "metadata": {
        "id": "u10MzEIDUToY"
      },
      "execution_count": 86,
      "outputs": []
    },
    {
      "cell_type": "markdown",
      "source": [
        "### Defining variables"
      ],
      "metadata": {
        "id": "0GvGccJGUUYA"
      }
    },
    {
      "cell_type": "markdown",
      "source": [
        "### Antecedent (input/sensor) variable for fuzzy control system"
      ],
      "metadata": {
        "id": "DYbnDOEKUXHU"
      }
    },
    {
      "cell_type": "code",
      "source": [
        "age = ctrl.Antecedent(np.arange(30, 76, 1), 'age')\n",
        "bloodpressure = ctrl.Antecedent(np.arange(90, 181, 1), 'bloodpressure')\n",
        "cholesterol = ctrl.Antecedent(np.arange(120, 341, 1), 'cholesterol')"
      ],
      "metadata": {
        "id": "f22H2BTnUZAJ"
      },
      "execution_count": 87,
      "outputs": []
    },
    {
      "cell_type": "markdown",
      "source": [
        "### Consequent (output/control) variable for fuzzy control system"
      ],
      "metadata": {
        "id": "tgrPkQ5UUgeZ"
      }
    },
    {
      "cell_type": "code",
      "source": [
        "risk = ctrl.Consequent(np.arange(0, 101, 1), 'risk')"
      ],
      "metadata": {
        "id": "mEn7XLV6Uieb"
      },
      "execution_count": 88,
      "outputs": []
    },
    {
      "cell_type": "markdown",
      "source": [
        "### Auto membership function to populate the fuzzy variables with terms"
      ],
      "metadata": {
        "id": "Dp15SprDUjO6"
      }
    },
    {
      "cell_type": "code",
      "source": [
        "age.automf(3, 'quant')\n",
        "bloodpressure.automf(3, 'quant')\n",
        "cholesterol.automf(3, 'quant')\n",
        "risk.automf(3, 'quant')"
      ],
      "metadata": {
        "id": "8ZISOJsBUkuj"
      },
      "execution_count": 89,
      "outputs": []
    },
    {
      "cell_type": "markdown",
      "source": [
        "### Fuzzy control system rules connects antecedents to consequents"
      ],
      "metadata": {
        "id": "K-pNg9foUobz"
      }
    },
    {
      "cell_type": "code",
      "source": [
        "risk_rule1 = ctrl.Rule(age['low'] & bloodpressure['low'] & cholesterol['low'], risk['low'])\n",
        "risk_rule2 = ctrl.Rule(age['low'] & bloodpressure['low'] & cholesterol['average'], risk['low'])\n",
        "risk_rule3 = ctrl.Rule(age['low'] & bloodpressure['average'] & cholesterol['low'], risk['low'])\n",
        "risk_rule4 = ctrl.Rule(age['low'] & bloodpressure['average'] & cholesterol['average'], risk['low'])\n",
        "risk_rule5 = ctrl.Rule(age['low'] & bloodpressure['low'] & cholesterol['average'], risk['average'])\n",
        "risk_rule6 = ctrl.Rule(age['low'] & bloodpressure['high'] & cholesterol['low'], risk['average'])\n",
        "risk_rule7 = ctrl.Rule(age['low'] & bloodpressure['low'] & cholesterol['high'], risk['average'])\n",
        "risk_rule8 = ctrl.Rule(age['low'] & bloodpressure['average'] & cholesterol['average'], risk['high'])\n",
        "risk_rule9 = ctrl.Rule(age['low'] & bloodpressure['high'] & cholesterol['average'], risk['high'])\n",
        "risk_rule10 = ctrl.Rule(age['low'] & bloodpressure['high'] & cholesterol['high'], risk['high'])\n",
        "risk_rule11 = ctrl.Rule(age['low'] & bloodpressure['high'] & cholesterol['high'], risk['high'])\n",
        "risk_rule12 = ctrl.Rule(age['average'] & bloodpressure['low'] & cholesterol['low'], risk['low'])\n",
        "risk_rule13 = ctrl.Rule(age['average'] & bloodpressure['low'] & cholesterol['average'], risk['low'])\n",
        "risk_rule14 = ctrl.Rule(age['average'] & bloodpressure['average'] & cholesterol['low'], risk['low'])\n",
        "risk_rule15 = ctrl.Rule(age['average'] & bloodpressure['average'] & cholesterol['average'], risk['average'])\n",
        "risk_rule16 = ctrl.Rule(age['average'] & bloodpressure['low'] & cholesterol['average'], risk['average'])\n",
        "risk_rule17 = ctrl.Rule(age['average'] & bloodpressure['high'] & cholesterol['low'], risk['average'])\n",
        "risk_rule18 = ctrl.Rule(age['average'] & bloodpressure['low'] & cholesterol['high'], risk['high'])\n",
        "risk_rule19 = ctrl.Rule(age['average'] & bloodpressure['average'] & cholesterol['average'], risk['high'])\n",
        "risk_rule20 = ctrl.Rule(age['average'] & bloodpressure['high'] & cholesterol['average'], risk['high'])\n",
        "risk_rule21 = ctrl.Rule(age['average'] & bloodpressure['high'] & cholesterol['high'], risk['high'])\n",
        "risk_rule22 = ctrl.Rule(age['average'] & bloodpressure['high'] & cholesterol['high'], risk['high'])\n",
        "risk_rule23 = ctrl.Rule(age['average'] & bloodpressure['high'] & cholesterol['low'], risk['high'])\n",
        "risk_rule24 = ctrl.Rule(age['average'] & bloodpressure['high'] & cholesterol['average'], risk['high'])\n",
        "risk_rule25 = ctrl.Rule(age['high'] & bloodpressure['low'] & cholesterol['low'], risk['low'])\n",
        "risk_rule26 = ctrl.Rule(age['high'] & bloodpressure['low'] & cholesterol['average'], risk['average'])\n",
        "risk_rule27 = ctrl.Rule(age['high'] & bloodpressure['average'] & cholesterol['low'], risk['average'])\n",
        "risk_rule28 = ctrl.Rule(age['high'] & bloodpressure['average'] & cholesterol['average'], risk['average'])\n",
        "risk_rule29 = ctrl.Rule(age['high'] & bloodpressure['low'] & cholesterol['average'], risk['high'])\n",
        "risk_rule30 = ctrl.Rule(age['high'] & bloodpressure['high'] & cholesterol['low'], risk['high'])\n",
        "risk_rule31 = ctrl.Rule(age['high'] & bloodpressure['low'] & cholesterol['high'], risk['high'])\n",
        "risk_rule32 = ctrl.Rule(age['high'] & bloodpressure['average'] & cholesterol['average'], risk['high'])\n",
        "risk_rule33 = ctrl.Rule(age['high'] & bloodpressure['high'] & cholesterol['average'], risk['high'])\n",
        "risk_rule34 = ctrl.Rule(age['high'] & bloodpressure['high'] & cholesterol['average'], risk['high'])\n",
        "risk_rule35 = ctrl.Rule(age['high'] & bloodpressure['high'] & cholesterol['high'], risk['high'])\n",
        "risk_rule36 = ctrl.Rule(age['high'] & bloodpressure['high'] & cholesterol['high'], risk['high'])\n",
        "risk_rule37 = ctrl.Rule(age['high'] & bloodpressure['high'] & cholesterol['low'], risk['high'])\n",
        "risk_rule38 = ctrl.Rule(age['high'] & bloodpressure['low'] & cholesterol['low'], risk['high'])"
      ],
      "metadata": {
        "id": "J-03ydhhUp0f"
      },
      "execution_count": 90,
      "outputs": []
    },
    {
      "cell_type": "markdown",
      "source": [
        "### Base class for containing fuzzy control system"
      ],
      "metadata": {
        "id": "KNj4Vio2VEvr"
      }
    },
    {
      "cell_type": "code",
      "source": [
        "risk_ctrl = ctrl.ControlSystem(\n",
        "    [risk_rule1, risk_rule2, risk_rule3, risk_rule4, risk_rule5, risk_rule6,\n",
        "     risk_rule7, risk_rule8, risk_rule9, risk_rule10, risk_rule11, risk_rule12,\n",
        "     risk_rule13, risk_rule14, risk_rule15, risk_rule16, risk_rule17,\n",
        "     risk_rule18, risk_rule19, risk_rule20, risk_rule21, risk_rule22,\n",
        "     risk_rule23, risk_rule24, risk_rule25, risk_rule26, risk_rule27,\n",
        "     risk_rule28, risk_rule29, risk_rule30, risk_rule31, risk_rule32,\n",
        "     risk_rule33, risk_rule34, risk_rule35, risk_rule36, risk_rule37,\n",
        "     risk_rule38])"
      ],
      "metadata": {
        "id": "SlC2291eVF3c"
      },
      "execution_count": 91,
      "outputs": []
    },
    {
      "cell_type": "markdown",
      "source": [
        "### Simulates and calculates results from the ControlSystem"
      ],
      "metadata": {
        "id": "uCvs6aMVVGo6"
      }
    },
    {
      "cell_type": "code",
      "source": [
        "risk_sim = ctrl.ControlSystemSimulation(risk_ctrl)"
      ],
      "metadata": {
        "id": "lLUCU09eVIBw"
      },
      "execution_count": 92,
      "outputs": []
    },
    {
      "cell_type": "markdown",
      "source": [
        "### Creating an empty column in dataset"
      ],
      "metadata": {
        "id": "qQU_5I5RVJMy"
      }
    },
    {
      "cell_type": "code",
      "source": [
        "df[\"risk\"] = pd.Series(dtype=float)"
      ],
      "metadata": {
        "id": "cljZNtIGVLGD"
      },
      "execution_count": 93,
      "outputs": []
    },
    {
      "cell_type": "markdown",
      "source": [
        "### Implementing fuzzy rules for all the rows in dataset and saving the risk outputs in the newly created \"Risk\" column"
      ],
      "metadata": {
        "id": "Q3cohH58VMFd"
      }
    },
    {
      "cell_type": "code",
      "source": [
        "start_time = time.time()\n",
        "for i in range(len(df)):\n",
        "    risk_sim.input['age'] = int(df.iloc[i][\"age\"])\n",
        "    risk_sim.input['bloodpressure'] = int(df.iloc[i][\"blood_pressure\"])\n",
        "    risk_sim.input['cholesterol'] = int(df.iloc[i][\"chol\"])\n",
        "\n",
        "    risk_sim.compute()\n",
        "\n",
        "    result = float(risk_sim.output[\"risk\"])\n",
        "\n",
        "    df[\"risk\"].values[i] = result\n",
        "implementation_time = \"%.4f\" % (time.time() - start_time)"
      ],
      "metadata": {
        "id": "wvxFOuwpVPd8"
      },
      "execution_count": 94,
      "outputs": []
    },
    {
      "cell_type": "markdown",
      "source": [
        "### Fuzzy Logic Results"
      ],
      "metadata": {
        "id": "FVpp5WNAVRBe"
      }
    },
    {
      "cell_type": "code",
      "source": [
        "print(\"Fuzzy Logic Implementation Time (sec):\", implementation_time)"
      ],
      "metadata": {
        "colab": {
          "base_uri": "https://localhost:8080/"
        },
        "id": "2wJuOB4fTMvk",
        "outputId": "61ab40b3-2240-4988-8c1d-35913077a3c6"
      },
      "execution_count": 95,
      "outputs": [
        {
          "output_type": "stream",
          "name": "stdout",
          "text": [
            "Fuzzy Logic Implementation Time (sec): 1.4306\n"
          ]
        }
      ]
    },
    {
      "cell_type": "code",
      "source": [
        "print(\"Dataset after risk calculations:\")\n",
        "df"
      ],
      "metadata": {
        "colab": {
          "base_uri": "https://localhost:8080/",
          "height": 441
        },
        "id": "F5_mEwmEVlMH",
        "outputId": "a780d673-efb2-4017-d8dd-ab690097179c"
      },
      "execution_count": 96,
      "outputs": [
        {
          "output_type": "stream",
          "name": "stdout",
          "text": [
            "Dataset after risk calculations:\n"
          ]
        },
        {
          "output_type": "execute_result",
          "data": {
            "text/plain": [
              "      age  blood_pressure  chol  diagnosis       risk\n",
              "0      52             125   212          0  56.771128\n",
              "1      53             140   203          0  56.429065\n",
              "2      70             145   174          0  54.308804\n",
              "3      61             148   203          0  55.547003\n",
              "4      62             138   294          0  55.023842\n",
              "...   ...             ...   ...        ...        ...\n",
              "1020   57             150   126          1  42.592105\n",
              "1021   60             125   258          0  56.140231\n",
              "1022   47             110   275          0  48.097526\n",
              "1023   57             150   126          1  42.592105\n",
              "1024   54             120   188          0  53.671900\n",
              "\n",
              "[1025 rows x 5 columns]"
            ],
            "text/html": [
              "\n",
              "  <div id=\"df-f78cdee4-59c0-45ca-a508-be63c8dadb0a\">\n",
              "    <div class=\"colab-df-container\">\n",
              "      <div>\n",
              "<style scoped>\n",
              "    .dataframe tbody tr th:only-of-type {\n",
              "        vertical-align: middle;\n",
              "    }\n",
              "\n",
              "    .dataframe tbody tr th {\n",
              "        vertical-align: top;\n",
              "    }\n",
              "\n",
              "    .dataframe thead th {\n",
              "        text-align: right;\n",
              "    }\n",
              "</style>\n",
              "<table border=\"1\" class=\"dataframe\">\n",
              "  <thead>\n",
              "    <tr style=\"text-align: right;\">\n",
              "      <th></th>\n",
              "      <th>age</th>\n",
              "      <th>blood_pressure</th>\n",
              "      <th>chol</th>\n",
              "      <th>diagnosis</th>\n",
              "      <th>risk</th>\n",
              "    </tr>\n",
              "  </thead>\n",
              "  <tbody>\n",
              "    <tr>\n",
              "      <th>0</th>\n",
              "      <td>52</td>\n",
              "      <td>125</td>\n",
              "      <td>212</td>\n",
              "      <td>0</td>\n",
              "      <td>56.771128</td>\n",
              "    </tr>\n",
              "    <tr>\n",
              "      <th>1</th>\n",
              "      <td>53</td>\n",
              "      <td>140</td>\n",
              "      <td>203</td>\n",
              "      <td>0</td>\n",
              "      <td>56.429065</td>\n",
              "    </tr>\n",
              "    <tr>\n",
              "      <th>2</th>\n",
              "      <td>70</td>\n",
              "      <td>145</td>\n",
              "      <td>174</td>\n",
              "      <td>0</td>\n",
              "      <td>54.308804</td>\n",
              "    </tr>\n",
              "    <tr>\n",
              "      <th>3</th>\n",
              "      <td>61</td>\n",
              "      <td>148</td>\n",
              "      <td>203</td>\n",
              "      <td>0</td>\n",
              "      <td>55.547003</td>\n",
              "    </tr>\n",
              "    <tr>\n",
              "      <th>4</th>\n",
              "      <td>62</td>\n",
              "      <td>138</td>\n",
              "      <td>294</td>\n",
              "      <td>0</td>\n",
              "      <td>55.023842</td>\n",
              "    </tr>\n",
              "    <tr>\n",
              "      <th>...</th>\n",
              "      <td>...</td>\n",
              "      <td>...</td>\n",
              "      <td>...</td>\n",
              "      <td>...</td>\n",
              "      <td>...</td>\n",
              "    </tr>\n",
              "    <tr>\n",
              "      <th>1020</th>\n",
              "      <td>57</td>\n",
              "      <td>150</td>\n",
              "      <td>126</td>\n",
              "      <td>1</td>\n",
              "      <td>42.592105</td>\n",
              "    </tr>\n",
              "    <tr>\n",
              "      <th>1021</th>\n",
              "      <td>60</td>\n",
              "      <td>125</td>\n",
              "      <td>258</td>\n",
              "      <td>0</td>\n",
              "      <td>56.140231</td>\n",
              "    </tr>\n",
              "    <tr>\n",
              "      <th>1022</th>\n",
              "      <td>47</td>\n",
              "      <td>110</td>\n",
              "      <td>275</td>\n",
              "      <td>0</td>\n",
              "      <td>48.097526</td>\n",
              "    </tr>\n",
              "    <tr>\n",
              "      <th>1023</th>\n",
              "      <td>57</td>\n",
              "      <td>150</td>\n",
              "      <td>126</td>\n",
              "      <td>1</td>\n",
              "      <td>42.592105</td>\n",
              "    </tr>\n",
              "    <tr>\n",
              "      <th>1024</th>\n",
              "      <td>54</td>\n",
              "      <td>120</td>\n",
              "      <td>188</td>\n",
              "      <td>0</td>\n",
              "      <td>53.671900</td>\n",
              "    </tr>\n",
              "  </tbody>\n",
              "</table>\n",
              "<p>1025 rows × 5 columns</p>\n",
              "</div>\n",
              "      <button class=\"colab-df-convert\" onclick=\"convertToInteractive('df-f78cdee4-59c0-45ca-a508-be63c8dadb0a')\"\n",
              "              title=\"Convert this dataframe to an interactive table.\"\n",
              "              style=\"display:none;\">\n",
              "        \n",
              "  <svg xmlns=\"http://www.w3.org/2000/svg\" height=\"24px\"viewBox=\"0 0 24 24\"\n",
              "       width=\"24px\">\n",
              "    <path d=\"M0 0h24v24H0V0z\" fill=\"none\"/>\n",
              "    <path d=\"M18.56 5.44l.94 2.06.94-2.06 2.06-.94-2.06-.94-.94-2.06-.94 2.06-2.06.94zm-11 1L8.5 8.5l.94-2.06 2.06-.94-2.06-.94L8.5 2.5l-.94 2.06-2.06.94zm10 10l.94 2.06.94-2.06 2.06-.94-2.06-.94-.94-2.06-.94 2.06-2.06.94z\"/><path d=\"M17.41 7.96l-1.37-1.37c-.4-.4-.92-.59-1.43-.59-.52 0-1.04.2-1.43.59L10.3 9.45l-7.72 7.72c-.78.78-.78 2.05 0 2.83L4 21.41c.39.39.9.59 1.41.59.51 0 1.02-.2 1.41-.59l7.78-7.78 2.81-2.81c.8-.78.8-2.07 0-2.86zM5.41 20L4 18.59l7.72-7.72 1.47 1.35L5.41 20z\"/>\n",
              "  </svg>\n",
              "      </button>\n",
              "      \n",
              "  <style>\n",
              "    .colab-df-container {\n",
              "      display:flex;\n",
              "      flex-wrap:wrap;\n",
              "      gap: 12px;\n",
              "    }\n",
              "\n",
              "    .colab-df-convert {\n",
              "      background-color: #E8F0FE;\n",
              "      border: none;\n",
              "      border-radius: 50%;\n",
              "      cursor: pointer;\n",
              "      display: none;\n",
              "      fill: #1967D2;\n",
              "      height: 32px;\n",
              "      padding: 0 0 0 0;\n",
              "      width: 32px;\n",
              "    }\n",
              "\n",
              "    .colab-df-convert:hover {\n",
              "      background-color: #E2EBFA;\n",
              "      box-shadow: 0px 1px 2px rgba(60, 64, 67, 0.3), 0px 1px 3px 1px rgba(60, 64, 67, 0.15);\n",
              "      fill: #174EA6;\n",
              "    }\n",
              "\n",
              "    [theme=dark] .colab-df-convert {\n",
              "      background-color: #3B4455;\n",
              "      fill: #D2E3FC;\n",
              "    }\n",
              "\n",
              "    [theme=dark] .colab-df-convert:hover {\n",
              "      background-color: #434B5C;\n",
              "      box-shadow: 0px 1px 3px 1px rgba(0, 0, 0, 0.15);\n",
              "      filter: drop-shadow(0px 1px 2px rgba(0, 0, 0, 0.3));\n",
              "      fill: #FFFFFF;\n",
              "    }\n",
              "  </style>\n",
              "\n",
              "      <script>\n",
              "        const buttonEl =\n",
              "          document.querySelector('#df-f78cdee4-59c0-45ca-a508-be63c8dadb0a button.colab-df-convert');\n",
              "        buttonEl.style.display =\n",
              "          google.colab.kernel.accessAllowed ? 'block' : 'none';\n",
              "\n",
              "        async function convertToInteractive(key) {\n",
              "          const element = document.querySelector('#df-f78cdee4-59c0-45ca-a508-be63c8dadb0a');\n",
              "          const dataTable =\n",
              "            await google.colab.kernel.invokeFunction('convertToInteractive',\n",
              "                                                     [key], {});\n",
              "          if (!dataTable) return;\n",
              "\n",
              "          const docLinkHtml = 'Like what you see? Visit the ' +\n",
              "            '<a target=\"_blank\" href=https://colab.research.google.com/notebooks/data_table.ipynb>data table notebook</a>'\n",
              "            + ' to learn more about interactive tables.';\n",
              "          element.innerHTML = '';\n",
              "          dataTable['output_type'] = 'display_data';\n",
              "          await google.colab.output.renderOutput(dataTable, element);\n",
              "          const docLink = document.createElement('div');\n",
              "          docLink.innerHTML = docLinkHtml;\n",
              "          element.appendChild(docLink);\n",
              "        }\n",
              "      </script>\n",
              "    </div>\n",
              "  </div>\n",
              "  "
            ]
          },
          "metadata": {},
          "execution_count": 96
        }
      ]
    },
    {
      "cell_type": "code",
      "source": [
        "print(\"Fuzzy Logic 'Risk' column details:\")\n",
        "df[\"risk\"].describe()"
      ],
      "metadata": {
        "colab": {
          "base_uri": "https://localhost:8080/"
        },
        "id": "ESJsOt8BVml-",
        "outputId": "c3ad5061-ec6c-4ba1-8dbb-bc87b3783964"
      },
      "execution_count": 97,
      "outputs": [
        {
          "output_type": "stream",
          "name": "stdout",
          "text": [
            "Fuzzy Logic 'Risk' column details:\n"
          ]
        },
        {
          "output_type": "execute_result",
          "data": {
            "text/plain": [
              "count    1025.000000\n",
              "mean       55.128841\n",
              "std         7.339916\n",
              "min        33.337867\n",
              "25%        50.661215\n",
              "50%        54.808805\n",
              "75%        56.947607\n",
              "max        83.125154\n",
              "Name: risk, dtype: float64"
            ]
          },
          "metadata": {},
          "execution_count": 97
        }
      ]
    }
  ]
}